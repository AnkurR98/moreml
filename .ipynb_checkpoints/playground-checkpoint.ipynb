{
 "cells": [
  {
   "cell_type": "code",
   "execution_count": null,
   "metadata": {},
   "outputs": [],
   "source": [
    "class Node:\n",
    "    def __init__(self, data):\n",
    "        self.data = data\n",
    "        self.next = None\n",
    "        \n",
    "class LinkedList:\n",
    "    def __init__(self):\n",
    "        self.head = None\n",
    "        \n",
    "    def printList(self):\n",
    "        temp = self.head\n",
    "        while(temp):\n",
    "            print(temp.data)\n",
    "            temp = temp.next\n",
    "            \n",
    "    def searchList(self,key):\n",
    "        temp = self.head\n",
    "        while(temp):\n",
    "            if(temp.data == key):\n",
    "                return True\n",
    "            temp = temp.next\n",
    "        return False\n",
    "    \n",
    "    def deleteElement(self,key):\n",
    "        temp = self.head\n",
    "        while(temp.next):\n",
    "            if(temp.next.data == key):\n",
    "                if(temp.next.next == None):\n",
    "                    temp.next = None\n",
    "                else:\n",
    "                    temp.next = temp.next.next\n",
    "        return temp\n",
    "                \n",
    "            \n",
    "llist = LinkedList()\n",
    "llist.head = Node(20)\n",
    "llist.head.next = Node(30)\n",
    "llist.head.next.next = Node(40)\n",
    "llist.head.next.next.next = Node(50)\n",
    "llist.head.next.next.next.next = Node(60)"
   ]
  },
  {
   "cell_type": "code",
   "execution_count": null,
   "metadata": {},
   "outputs": [],
   "source": [
    "ptint(llist)"
   ]
  },
  {
   "cell_type": "code",
   "execution_count": null,
   "metadata": {},
   "outputs": [],
   "source": [
    "array = [0,1,1,1,0,0,0,1,0,1,0,1]\n",
    "i = 0\n",
    "j = len(array) - 1\n",
    "while(i<j):\n",
    "    while not array[i] and i < j:\n",
    "        i += 1\n",
    "    while array[j] and i < j:\n",
    "        j -= 1\n",
    "    array[i] = 0\n",
    "    array[j] = 1\n",
    "    i += 1\n",
    "    j -= 1\n",
    "\n",
    "print(array)"
   ]
  },
  {
   "cell_type": "code",
   "execution_count": 10,
   "metadata": {},
   "outputs": [
    {
     "data": {
      "text/plain": [
       "8.384615384615385"
      ]
     },
     "execution_count": 10,
     "metadata": {},
     "output_type": "execute_result"
    }
   ],
   "source": [
    "gp = 216 + 214 + 236 + 224 + 200\n",
    "points = 28 + 28 + 24 + 24 + 26\n",
    "cgpa = gp / points\n",
    "cgpa"
   ]
  },
  {
   "cell_type": "code",
   "execution_count": 4,
   "metadata": {},
   "outputs": [
    {
     "data": {
      "text/plain": [
       "199.94"
      ]
     },
     "execution_count": 4,
     "metadata": {},
     "output_type": "execute_result"
    }
   ],
   "source": [
    "7.69 * 26"
   ]
  },
  {
   "cell_type": "code",
   "execution_count": 5,
   "metadata": {},
   "outputs": [
    {
     "data": {
      "text/plain": [
       "200"
      ]
     },
     "execution_count": 5,
     "metadata": {},
     "output_type": "execute_result"
    }
   ],
   "source": [
    "24 + 32 + 28 + 24 + 28 + 24 + 20 + 20"
   ]
  },
  {
   "cell_type": "code",
   "execution_count": 8,
   "metadata": {},
   "outputs": [
    {
     "data": {
      "text/plain": [
       "7.6923076923076925"
      ]
     },
     "execution_count": 8,
     "metadata": {},
     "output_type": "execute_result"
    }
   ],
   "source": [
    "200 / 26"
   ]
  },
  {
   "cell_type": "code",
   "execution_count": null,
   "metadata": {},
   "outputs": [],
   "source": []
  }
 ],
 "metadata": {
  "kernelspec": {
   "display_name": "Python 3",
   "language": "python",
   "name": "python3"
  },
  "language_info": {
   "codemirror_mode": {
    "name": "ipython",
    "version": 3
   },
   "file_extension": ".py",
   "mimetype": "text/x-python",
   "name": "python",
   "nbconvert_exporter": "python",
   "pygments_lexer": "ipython3",
   "version": "3.7.1"
  }
 },
 "nbformat": 4,
 "nbformat_minor": 2
}
