{
 "cells": [
  {
   "cell_type": "markdown",
   "metadata": {},
   "source": [
    "## ID3 (Iterative Dichotomizer 3)"
   ]
  },
  {
   "cell_type": "markdown",
   "metadata": {},
   "source": [
    "### Vani K S, Assistant Professor, Department of CSE"
   ]
  },
  {
   "cell_type": "markdown",
   "metadata": {},
   "source": [
    "### Algorithm invented by Ross Quinlan in 1986 which is used to generate a decision tree from a dataset"
   ]
  },
  {
   "cell_type": "markdown",
   "metadata": {},
   "source": [
    "### Decision tree is used if we have categorical data, for example: hot, mild, and cold. But Decision trees can handle both categorical and numerical data. "
   ]
  },
  {
   "cell_type": "markdown",
   "metadata": {},
   "source": [
    "## Types of Decision Trees: CART(Classification and Regression Trees), ID3"
   ]
  },
  {
   "cell_type": "markdown",
   "metadata": {},
   "source": [
    "### First of all, dichotomisation means dividing into two completely opposite things. That’s why, the algorithm iteratively divides attributes into two groups which are the most dominant attribute and others to construct a tree."
   ]
  },
  {
   "cell_type": "code",
   "execution_count": 32,
   "metadata": {},
   "outputs": [
    {
     "name": "stderr",
     "output_type": "stream",
     "text": [
      "C:\\Users\\student\\Anaconda3\\lib\\site-packages\\ipykernel_launcher.py:2: FutureWarning: from_csv is deprecated. Please use read_csv(...) instead. Note that some of the default arguments are different, so please refer to the documentation for from_csv when changing your function calls\n",
      "  \n"
     ]
    }
   ],
   "source": [
    "from pandas import DataFrame \n",
    "df_tennis = DataFrame.from_csv('PlayTennis.csv') "
   ]
  },
  {
   "cell_type": "markdown",
   "metadata": {},
   "source": [
    "### Pandas is an open source, BSD-licensed library providing high-performance, easy-to-use data structures and data analysis tools for the Python programming language."
   ]
  },
  {
   "cell_type": "markdown",
   "metadata": {},
   "source": [
    "### Pandas DataFrame is two-dimensional size-mutable, potentially heterogeneous tabular data structure with labeled axes (rows and columns). "
   ]
  },
  {
   "cell_type": "code",
   "execution_count": 33,
   "metadata": {},
   "outputs": [
    {
     "name": "stdout",
     "output_type": "stream",
     "text": [
      "   PlayTennis   Outlook Temperature Humidity    Wind\n",
      "0          No     Sunny         Hot     High    Weak\n",
      "1          No     Sunny         Hot     High  Strong\n",
      "2         Yes  Overcast         Hot     High    Weak\n",
      "3         Yes      Rain        Mild     High    Weak\n",
      "4         Yes      Rain        Cool   Normal    Weak\n",
      "5          No      Rain        Cool   Normal  Strong\n",
      "6         Yes  Overcast        Cool   Normal  Strong\n",
      "7          No     Sunny        Mild     High    Weak\n",
      "8         Yes     Sunny        Cool   Normal    Weak\n",
      "9         Yes      Rain        Mild   Normal    Weak\n",
      "10        Yes     Sunny        Mild   Normal  Strong\n",
      "11        Yes  Overcast        Mild     High  Strong\n",
      "12        Yes  Overcast         Hot   Normal    Weak\n",
      "13         No      Rain        Mild     High  Strong\n"
     ]
    }
   ],
   "source": [
    "print(df_tennis)"
   ]
  },
  {
   "cell_type": "code",
   "execution_count": 34,
   "metadata": {},
   "outputs": [],
   "source": [
    "def entropy(probs):  \n",
    "    import math \n",
    "    return sum( [-prob*math.log(prob, 2) for prob in probs] ) "
   ]
  },
  {
   "cell_type": "markdown",
   "metadata": {},
   "source": [
    "### Entropy is the measures of impurity, disorder or uncertainty in a bunch of examples."
   ]
  },
  {
   "attachments": {
    "entropy.png": {
     "image/png": "[encoded data removed]"
    }
   },
   "cell_type": "markdown",
   "metadata": {},
   "source": [
    "![entropy.png](attachment:entropy.png)"
   ]
  },
  {
   "cell_type": "code",
   "execution_count": 35,
   "metadata": {},
   "outputs": [],
   "source": [
    "def entropy_of_list(a_list): \n",
    "    from collections import Counter \n",
    "    cnt = Counter(x for x in a_list)\n",
    "    print(\"No and Yes Classes:\",cnt) \n",
    "    num_instances = len(a_list)\n",
    "    probs = [x / num_instances for x in cnt.values()] \n",
    "    return entropy(probs)  "
   ]
  },
  {
   "cell_type": "markdown",
   "metadata": {},
   "source": [
    "### Collections module: This module implements specialized container datatypes providing alternatives to Python’s general purpose built-in containers, dict, list, set, and tuple."
   ]
  },
  {
   "cell_type": "markdown",
   "metadata": {},
   "source": [
    "### Counter is an unordered collection where elements are stored as Dict keys and their count as dict value."
   ]
  },
  {
   "cell_type": "markdown",
   "metadata": {},
   "source": [
    "### Compared to Arrays, collections offer good performance for adding and inserting items, and accessing and removing them by their Keys. However, performance is poor if items are to be accessed by index."
   ]
  },
  {
   "cell_type": "code",
   "execution_count": 36,
   "metadata": {},
   "outputs": [
    {
     "name": "stdout",
     "output_type": "stream",
     "text": [
      "0      No\n",
      "1      No\n",
      "2     Yes\n",
      "3     Yes\n",
      "4     Yes\n",
      "5      No\n",
      "6     Yes\n",
      "7      No\n",
      "8     Yes\n",
      "9     Yes\n",
      "10    Yes\n",
      "11    Yes\n",
      "12    Yes\n",
      "13     No\n",
      "Name: PlayTennis, dtype: object\n"
     ]
    }
   ],
   "source": [
    "print(df_tennis['PlayTennis'])"
   ]
  },
  {
   "cell_type": "code",
   "execution_count": 37,
   "metadata": {},
   "outputs": [
    {
     "name": "stdout",
     "output_type": "stream",
     "text": [
      "No and Yes Classes: Counter({'Yes': 9, 'No': 5})\n",
      "Entropy of given PlayTennis Data Set: 0.9402859586706309\n"
     ]
    }
   ],
   "source": [
    "total_entropy = entropy_of_list(df_tennis['PlayTennis']) \n",
    "print(\"Entropy of given PlayTennis Data Set:\",total_entropy)"
   ]
  },
  {
   "cell_type": "markdown",
   "metadata": {},
   "source": [
    "### Information gain (IG) measures how much “information” a feature gives us about the class. An attribute with highest Information gain will be tested/split first."
   ]
  },
  {
   "cell_type": "markdown",
   "metadata": {},
   "source": [
    "### The information gain is based on the decrease in entropy after a data-set is split on an attribute"
   ]
  },
  {
   "cell_type": "markdown",
   "metadata": {},
   "source": [
    "### Information Gain=Entropy(Parent)-[Average Entropy of Children]"
   ]
  },
  {
   "attachments": {
    "gain.png": {
     "image/png": "[encoded data removed]"
    }
   },
   "cell_type": "markdown",
   "metadata": {},
   "source": [
    "![gain.png](attachment:gain.png)"
   ]
  },
  {
   "cell_type": "markdown",
   "metadata": {},
   "source": [
    "### groupby: Group DataFrame or Series using a mapper or by a Series of columns.A groupby operation involves some combination of splitting the object, applying a function, and combining the results."
   ]
  },
  {
   "cell_type": "markdown",
   "metadata": {},
   "source": [
    "### Pandas Series.agg() is used to pass a function or list of function to be applied on a series or even each element of series separately. In case of list of function, multiple results are returned by agg() method."
   ]
  },
  {
   "cell_type": "markdown",
   "metadata": {},
   "source": [
    "### Paremeters: func: Function, list of function or string of function name to be called on Series.axis:0 or ‘index’ for row wise operation and 1 or ‘columns’ for column wise operation."
   ]
  },
  {
   "cell_type": "markdown",
   "metadata": {},
   "source": [
    "### Return Type of agg: The return type depends on return type of function passed as parameter."
   ]
  },
  {
   "cell_type": "code",
   "execution_count": 38,
   "metadata": {},
   "outputs": [],
   "source": [
    "def information_gain(df, split_attribute_name, target_attribute_name): \n",
    "    print(\"Information Gain Calculation of \",split_attribute_name)\n",
    "    df_split = df.groupby(split_attribute_name) \n",
    "    for name,group in df_split: \n",
    "        print(name) \n",
    "        print(group) \n",
    "    nobs = len(df.index) * 1.0 \n",
    "    df_agg_ent = df_split.agg({target_attribute_name : [entropy_of_list, lambda x: len(x)/nobs] })[target_attribute_name]\n",
    "    print(df_agg_ent)\n",
    "    df_agg_ent.columns = ['Entropy', 'PropObservations'] \n",
    "    new_entropy = sum( df_agg_ent['Entropy'] * df_agg_ent['PropObservations'] ) \n",
    "    old_entropy = entropy_of_list(df[target_attribute_name])\n",
    "    return old_entropy - new_entropy "
   ]
  },
  {
   "cell_type": "code",
   "execution_count": 39,
   "metadata": {},
   "outputs": [
    {
     "name": "stdout",
     "output_type": "stream",
     "text": [
      "Info-gain for Outlook is :\n",
      "Information Gain Calculation of  Outlook\n",
      "Overcast\n",
      "   PlayTennis   Outlook Temperature Humidity    Wind\n",
      "2         Yes  Overcast         Hot     High    Weak\n",
      "6         Yes  Overcast        Cool   Normal  Strong\n",
      "11        Yes  Overcast        Mild     High  Strong\n",
      "12        Yes  Overcast         Hot   Normal    Weak\n",
      "Rain\n",
      "   PlayTennis Outlook Temperature Humidity    Wind\n",
      "3         Yes    Rain        Mild     High    Weak\n",
      "4         Yes    Rain        Cool   Normal    Weak\n",
      "5          No    Rain        Cool   Normal  Strong\n",
      "9         Yes    Rain        Mild   Normal    Weak\n",
      "13         No    Rain        Mild     High  Strong\n",
      "Sunny\n",
      "   PlayTennis Outlook Temperature Humidity    Wind\n",
      "0          No   Sunny         Hot     High    Weak\n",
      "1          No   Sunny         Hot     High  Strong\n",
      "7          No   Sunny        Mild     High    Weak\n",
      "8         Yes   Sunny        Cool   Normal    Weak\n",
      "10        Yes   Sunny        Mild   Normal  Strong\n",
      "No and Yes Classes: Counter({'Yes': 4})\n",
      "No and Yes Classes: Counter({'Yes': 3, 'No': 2})\n",
      "No and Yes Classes: Counter({'No': 3, 'Yes': 2})\n",
      "          entropy_of_list  <lambda>\n",
      "Outlook                            \n",
      "Overcast         0.000000  0.285714\n",
      "Rain             0.970951  0.357143\n",
      "Sunny            0.970951  0.357143\n",
      "No and Yes Classes: Counter({'Yes': 9, 'No': 5})\n",
      "0.2467498197744391\n"
     ]
    }
   ],
   "source": [
    "print('Info-gain for Outlook is :')\n",
    "out1=float(information_gain(df_tennis, 'Outlook', 'PlayTennis'))\n",
    "print(out1)"
   ]
  },
  {
   "cell_type": "code",
   "execution_count": 40,
   "metadata": {},
   "outputs": [
    {
     "name": "stdout",
     "output_type": "stream",
     "text": [
      "\n",
      " Info-gain for Humidity is: \n",
      "Information Gain Calculation of  Humidity\n",
      "High\n",
      "   PlayTennis   Outlook Temperature Humidity    Wind\n",
      "0          No     Sunny         Hot     High    Weak\n",
      "1          No     Sunny         Hot     High  Strong\n",
      "2         Yes  Overcast         Hot     High    Weak\n",
      "3         Yes      Rain        Mild     High    Weak\n",
      "7          No     Sunny        Mild     High    Weak\n",
      "11        Yes  Overcast        Mild     High  Strong\n",
      "13         No      Rain        Mild     High  Strong\n",
      "Normal\n",
      "   PlayTennis   Outlook Temperature Humidity    Wind\n",
      "4         Yes      Rain        Cool   Normal    Weak\n",
      "5          No      Rain        Cool   Normal  Strong\n",
      "6         Yes  Overcast        Cool   Normal  Strong\n",
      "8         Yes     Sunny        Cool   Normal    Weak\n",
      "9         Yes      Rain        Mild   Normal    Weak\n",
      "10        Yes     Sunny        Mild   Normal  Strong\n",
      "12        Yes  Overcast         Hot   Normal    Weak\n",
      "No and Yes Classes: Counter({'No': 4, 'Yes': 3})\n",
      "No and Yes Classes: Counter({'Yes': 6, 'No': 1})\n",
      "          entropy_of_list  <lambda>\n",
      "Humidity                           \n",
      "High             0.985228       0.5\n",
      "Normal           0.591673       0.5\n",
      "No and Yes Classes: Counter({'Yes': 9, 'No': 5})\n",
      "0.15183550136234136\n"
     ]
    }
   ],
   "source": [
    "print('\\n Info-gain for Humidity is: ')\n",
    "out2=float(information_gain(df_tennis, 'Humidity', 'PlayTennis'))\n",
    "print(out2)"
   ]
  },
  {
   "cell_type": "code",
   "execution_count": 41,
   "metadata": {
    "scrolled": true
   },
   "outputs": [
    {
     "name": "stdout",
     "output_type": "stream",
     "text": [
      "\n",
      " Info-gain for Wind is:\n",
      "Information Gain Calculation of  Wind\n",
      "Strong\n",
      "   PlayTennis   Outlook Temperature Humidity    Wind\n",
      "1          No     Sunny         Hot     High  Strong\n",
      "5          No      Rain        Cool   Normal  Strong\n",
      "6         Yes  Overcast        Cool   Normal  Strong\n",
      "10        Yes     Sunny        Mild   Normal  Strong\n",
      "11        Yes  Overcast        Mild     High  Strong\n",
      "13         No      Rain        Mild     High  Strong\n",
      "Weak\n",
      "   PlayTennis   Outlook Temperature Humidity  Wind\n",
      "0          No     Sunny         Hot     High  Weak\n",
      "2         Yes  Overcast         Hot     High  Weak\n",
      "3         Yes      Rain        Mild     High  Weak\n",
      "4         Yes      Rain        Cool   Normal  Weak\n",
      "7          No     Sunny        Mild     High  Weak\n",
      "8         Yes     Sunny        Cool   Normal  Weak\n",
      "9         Yes      Rain        Mild   Normal  Weak\n",
      "12        Yes  Overcast         Hot   Normal  Weak\n",
      "No and Yes Classes: Counter({'No': 3, 'Yes': 3})\n",
      "No and Yes Classes: Counter({'Yes': 6, 'No': 2})\n",
      "        entropy_of_list  <lambda>\n",
      "Wind                             \n",
      "Strong         1.000000  0.428571\n",
      "Weak           0.811278  0.571429\n",
      "No and Yes Classes: Counter({'Yes': 9, 'No': 5})\n",
      "0.04812703040826927\n"
     ]
    }
   ],
   "source": [
    "print('\\n Info-gain for Wind is:')\n",
    "out3=float(information_gain(df_tennis, 'Wind', 'PlayTennis'))\n",
    "print(out3)"
   ]
  },
  {
   "cell_type": "code",
   "execution_count": 42,
   "metadata": {
    "scrolled": true
   },
   "outputs": [
    {
     "name": "stdout",
     "output_type": "stream",
     "text": [
      "\n",
      " Info-gain for Temperature is:\n",
      "Information Gain Calculation of  Temperature\n",
      "Cool\n",
      "  PlayTennis   Outlook Temperature Humidity    Wind\n",
      "4        Yes      Rain        Cool   Normal    Weak\n",
      "5         No      Rain        Cool   Normal  Strong\n",
      "6        Yes  Overcast        Cool   Normal  Strong\n",
      "8        Yes     Sunny        Cool   Normal    Weak\n",
      "Hot\n",
      "   PlayTennis   Outlook Temperature Humidity    Wind\n",
      "0          No     Sunny         Hot     High    Weak\n",
      "1          No     Sunny         Hot     High  Strong\n",
      "2         Yes  Overcast         Hot     High    Weak\n",
      "12        Yes  Overcast         Hot   Normal    Weak\n",
      "Mild\n",
      "   PlayTennis   Outlook Temperature Humidity    Wind\n",
      "3         Yes      Rain        Mild     High    Weak\n",
      "7          No     Sunny        Mild     High    Weak\n",
      "9         Yes      Rain        Mild   Normal    Weak\n",
      "10        Yes     Sunny        Mild   Normal  Strong\n",
      "11        Yes  Overcast        Mild     High  Strong\n",
      "13         No      Rain        Mild     High  Strong\n",
      "No and Yes Classes: Counter({'Yes': 3, 'No': 1})\n",
      "No and Yes Classes: Counter({'No': 2, 'Yes': 2})\n",
      "No and Yes Classes: Counter({'Yes': 4, 'No': 2})\n",
      "             entropy_of_list  <lambda>\n",
      "Temperature                           \n",
      "Cool                0.811278  0.285714\n",
      "Hot                 1.000000  0.285714\n",
      "Mild                0.918296  0.428571\n",
      "No and Yes Classes: Counter({'Yes': 9, 'No': 5})\n",
      "0.029222565658954647\n"
     ]
    }
   ],
   "source": [
    "print('\\n Info-gain for Temperature is:')\n",
    "out4=float(information_gain(df_tennis, 'Temperature','PlayTennis'))\n",
    "print(out4)"
   ]
  },
  {
   "cell_type": "markdown",
   "metadata": {},
   "source": [
    "### The method next() is used when a file is used as an iterator, typically in a loop, the next() method is called repeatedly. This method returns the next input line, or raises StopIteration when EOF is hit."
   ]
  },
  {
   "cell_type": "markdown",
   "metadata": {},
   "source": [
    "### The iter() method creates an object which can be iterated one element at a time.The iter() method takes two parameters:object whose iterator has to be created "
   ]
  },
  {
   "cell_type": "code",
   "execution_count": 43,
   "metadata": {},
   "outputs": [],
   "source": [
    "def id3(df, target_attribute_name, attribute_names, default_class=None): \n",
    "    from collections import Counter \n",
    "    cnt = Counter(x for x in df[target_attribute_name]) \n",
    "    print(cnt)\n",
    "    if len(cnt) == 1: \n",
    "        return next(iter(cnt)) \n",
    "    elif df.empty or (not attribute_names):\n",
    "        return default_class \n",
    "    else: \n",
    "        default_class = max(cnt.keys())\n",
    "        gainz = [information_gain(df, attr, target_attribute_name) for attr in attribute_names] \n",
    "        index_of_max = gainz.index(max(gainz)) \n",
    "        best_attr = attribute_names[index_of_max]\n",
    "        print(\"Best\",best_attr)\n",
    "        tree = {best_attr:{}} \n",
    "        remaining_attribute_names = [i for i in attribute_names if i != best_attr] \n",
    "        print(\"Remaining Attributes\",remaining_attribute_names)\n",
    "        for attr_val, data_subset in df.groupby(best_attr):\n",
    "            \n",
    "            subtree = id3(data_subset, \n",
    "                          target_attribute_name, \n",
    "                          remaining_attribute_names, \n",
    "                          default_class) \n",
    "            tree[best_attr][attr_val] = subtree\n",
    "            print(\"SubTree:\",subtree)\n",
    "        return tree"
   ]
  },
  {
   "cell_type": "code",
   "execution_count": 44,
   "metadata": {},
   "outputs": [
    {
     "name": "stdout",
     "output_type": "stream",
     "text": [
      "List of Attributes: ['PlayTennis', 'Outlook', 'Temperature', 'Humidity', 'Wind']\n",
      "Predicting Attributes: ['Outlook', 'Temperature', 'Humidity', 'Wind']\n"
     ]
    }
   ],
   "source": [
    "attribute_names = list(df_tennis.columns) \n",
    "print(\"List of Attributes:\", attribute_names) \n",
    "attribute_names.remove('PlayTennis')  \n",
    "print(\"Predicting Attributes:\", attribute_names)"
   ]
  },
  {
   "cell_type": "markdown",
   "metadata": {},
   "source": [
    "### The pprint module provides a capability to “pretty-print” arbitrary Python data structures in a well-formatted and more readable way!"
   ]
  },
  {
   "cell_type": "code",
   "execution_count": 45,
   "metadata": {},
   "outputs": [
    {
     "name": "stdout",
     "output_type": "stream",
     "text": [
      "Counter({'Yes': 9, 'No': 5})\n",
      "Information Gain Calculation of  Outlook\n",
      "Overcast\n",
      "   PlayTennis   Outlook Temperature Humidity    Wind\n",
      "2         Yes  Overcast         Hot     High    Weak\n",
      "6         Yes  Overcast        Cool   Normal  Strong\n",
      "11        Yes  Overcast        Mild     High  Strong\n",
      "12        Yes  Overcast         Hot   Normal    Weak\n",
      "Rain\n",
      "   PlayTennis Outlook Temperature Humidity    Wind\n",
      "3         Yes    Rain        Mild     High    Weak\n",
      "4         Yes    Rain        Cool   Normal    Weak\n",
      "5          No    Rain        Cool   Normal  Strong\n",
      "9         Yes    Rain        Mild   Normal    Weak\n",
      "13         No    Rain        Mild     High  Strong\n",
      "Sunny\n",
      "   PlayTennis Outlook Temperature Humidity    Wind\n",
      "0          No   Sunny         Hot     High    Weak\n",
      "1          No   Sunny         Hot     High  Strong\n",
      "7          No   Sunny        Mild     High    Weak\n",
      "8         Yes   Sunny        Cool   Normal    Weak\n",
      "10        Yes   Sunny        Mild   Normal  Strong\n",
      "No and Yes Classes: Counter({'Yes': 4})\n",
      "No and Yes Classes: Counter({'Yes': 3, 'No': 2})\n",
      "No and Yes Classes: Counter({'No': 3, 'Yes': 2})\n",
      "          entropy_of_list  <lambda>\n",
      "Outlook                            \n",
      "Overcast         0.000000  0.285714\n",
      "Rain             0.970951  0.357143\n",
      "Sunny            0.970951  0.357143\n",
      "No and Yes Classes: Counter({'Yes': 9, 'No': 5})\n",
      "Information Gain Calculation of  Temperature\n",
      "Cool\n",
      "  PlayTennis   Outlook Temperature Humidity    Wind\n",
      "4        Yes      Rain        Cool   Normal    Weak\n",
      "5         No      Rain        Cool   Normal  Strong\n",
      "6        Yes  Overcast        Cool   Normal  Strong\n",
      "8        Yes     Sunny        Cool   Normal    Weak\n",
      "Hot\n",
      "   PlayTennis   Outlook Temperature Humidity    Wind\n",
      "0          No     Sunny         Hot     High    Weak\n",
      "1          No     Sunny         Hot     High  Strong\n",
      "2         Yes  Overcast         Hot     High    Weak\n",
      "12        Yes  Overcast         Hot   Normal    Weak\n",
      "Mild\n",
      "   PlayTennis   Outlook Temperature Humidity    Wind\n",
      "3         Yes      Rain        Mild     High    Weak\n",
      "7          No     Sunny        Mild     High    Weak\n",
      "9         Yes      Rain        Mild   Normal    Weak\n",
      "10        Yes     Sunny        Mild   Normal  Strong\n",
      "11        Yes  Overcast        Mild     High  Strong\n",
      "13         No      Rain        Mild     High  Strong\n",
      "No and Yes Classes: Counter({'Yes': 3, 'No': 1})\n",
      "No and Yes Classes: Counter({'No': 2, 'Yes': 2})\n",
      "No and Yes Classes: Counter({'Yes': 4, 'No': 2})\n",
      "             entropy_of_list  <lambda>\n",
      "Temperature                           \n",
      "Cool                0.811278  0.285714\n",
      "Hot                 1.000000  0.285714\n",
      "Mild                0.918296  0.428571\n",
      "No and Yes Classes: Counter({'Yes': 9, 'No': 5})\n",
      "Information Gain Calculation of  Humidity\n",
      "High\n",
      "   PlayTennis   Outlook Temperature Humidity    Wind\n",
      "0          No     Sunny         Hot     High    Weak\n",
      "1          No     Sunny         Hot     High  Strong\n",
      "2         Yes  Overcast         Hot     High    Weak\n",
      "3         Yes      Rain        Mild     High    Weak\n",
      "7          No     Sunny        Mild     High    Weak\n",
      "11        Yes  Overcast        Mild     High  Strong\n",
      "13         No      Rain        Mild     High  Strong\n",
      "Normal\n",
      "   PlayTennis   Outlook Temperature Humidity    Wind\n",
      "4         Yes      Rain        Cool   Normal    Weak\n",
      "5          No      Rain        Cool   Normal  Strong\n",
      "6         Yes  Overcast        Cool   Normal  Strong\n",
      "8         Yes     Sunny        Cool   Normal    Weak\n",
      "9         Yes      Rain        Mild   Normal    Weak\n",
      "10        Yes     Sunny        Mild   Normal  Strong\n",
      "12        Yes  Overcast         Hot   Normal    Weak\n",
      "No and Yes Classes: Counter({'No': 4, 'Yes': 3})\n",
      "No and Yes Classes: Counter({'Yes': 6, 'No': 1})\n",
      "          entropy_of_list  <lambda>\n",
      "Humidity                           \n",
      "High             0.985228       0.5\n",
      "Normal           0.591673       0.5\n",
      "No and Yes Classes: Counter({'Yes': 9, 'No': 5})\n",
      "Information Gain Calculation of  Wind\n",
      "Strong\n",
      "   PlayTennis   Outlook Temperature Humidity    Wind\n",
      "1          No     Sunny         Hot     High  Strong\n",
      "5          No      Rain        Cool   Normal  Strong\n",
      "6         Yes  Overcast        Cool   Normal  Strong\n",
      "10        Yes     Sunny        Mild   Normal  Strong\n",
      "11        Yes  Overcast        Mild     High  Strong\n",
      "13         No      Rain        Mild     High  Strong\n",
      "Weak\n",
      "   PlayTennis   Outlook Temperature Humidity  Wind\n",
      "0          No     Sunny         Hot     High  Weak\n",
      "2         Yes  Overcast         Hot     High  Weak\n",
      "3         Yes      Rain        Mild     High  Weak\n",
      "4         Yes      Rain        Cool   Normal  Weak\n",
      "7          No     Sunny        Mild     High  Weak\n",
      "8         Yes     Sunny        Cool   Normal  Weak\n",
      "9         Yes      Rain        Mild   Normal  Weak\n",
      "12        Yes  Overcast         Hot   Normal  Weak\n",
      "No and Yes Classes: Counter({'No': 3, 'Yes': 3})\n",
      "No and Yes Classes: Counter({'Yes': 6, 'No': 2})\n",
      "        entropy_of_list  <lambda>\n",
      "Wind                             \n",
      "Strong         1.000000  0.428571\n",
      "Weak           0.811278  0.571429\n",
      "No and Yes Classes: Counter({'Yes': 9, 'No': 5})\n",
      "Best Outlook\n",
      "Remaining Attributes ['Temperature', 'Humidity', 'Wind']\n",
      "Counter({'Yes': 4})\n",
      "SubTree: Yes\n",
      "Counter({'Yes': 3, 'No': 2})\n",
      "Information Gain Calculation of  Temperature\n",
      "Cool\n",
      "  PlayTennis Outlook Temperature Humidity    Wind\n",
      "4        Yes    Rain        Cool   Normal    Weak\n",
      "5         No    Rain        Cool   Normal  Strong\n",
      "Mild\n",
      "   PlayTennis Outlook Temperature Humidity    Wind\n",
      "3         Yes    Rain        Mild     High    Weak\n",
      "9         Yes    Rain        Mild   Normal    Weak\n",
      "13         No    Rain        Mild     High  Strong\n",
      "No and Yes Classes: Counter({'Yes': 1, 'No': 1})\n",
      "No and Yes Classes: Counter({'Yes': 2, 'No': 1})\n",
      "             entropy_of_list  <lambda>\n",
      "Temperature                           \n",
      "Cool                1.000000       0.4\n",
      "Mild                0.918296       0.6\n",
      "No and Yes Classes: Counter({'Yes': 3, 'No': 2})\n",
      "Information Gain Calculation of  Humidity\n",
      "High\n",
      "   PlayTennis Outlook Temperature Humidity    Wind\n",
      "3         Yes    Rain        Mild     High    Weak\n",
      "13         No    Rain        Mild     High  Strong\n",
      "Normal\n",
      "  PlayTennis Outlook Temperature Humidity    Wind\n",
      "4        Yes    Rain        Cool   Normal    Weak\n",
      "5         No    Rain        Cool   Normal  Strong\n",
      "9        Yes    Rain        Mild   Normal    Weak\n",
      "No and Yes Classes: Counter({'Yes': 1, 'No': 1})\n",
      "No and Yes Classes: Counter({'Yes': 2, 'No': 1})\n",
      "          entropy_of_list  <lambda>\n",
      "Humidity                           \n",
      "High             1.000000       0.4\n",
      "Normal           0.918296       0.6\n",
      "No and Yes Classes: Counter({'Yes': 3, 'No': 2})\n",
      "Information Gain Calculation of  Wind\n",
      "Strong\n",
      "   PlayTennis Outlook Temperature Humidity    Wind\n",
      "5          No    Rain        Cool   Normal  Strong\n",
      "13         No    Rain        Mild     High  Strong\n",
      "Weak\n",
      "  PlayTennis Outlook Temperature Humidity  Wind\n",
      "3        Yes    Rain        Mild     High  Weak\n",
      "4        Yes    Rain        Cool   Normal  Weak\n",
      "9        Yes    Rain        Mild   Normal  Weak\n",
      "No and Yes Classes: Counter({'No': 2})\n",
      "No and Yes Classes: Counter({'Yes': 3})\n",
      "        entropy_of_list  <lambda>\n",
      "Wind                             \n",
      "Strong              0.0       0.4\n",
      "Weak                0.0       0.6\n",
      "No and Yes Classes: Counter({'Yes': 3, 'No': 2})\n",
      "Best Wind\n",
      "Remaining Attributes ['Temperature', 'Humidity']\n",
      "Counter({'No': 2})\n",
      "SubTree: No\n",
      "Counter({'Yes': 3})\n",
      "SubTree: Yes\n",
      "SubTree: {'Wind': {'Strong': 'No', 'Weak': 'Yes'}}\n",
      "Counter({'No': 3, 'Yes': 2})\n",
      "Information Gain Calculation of  Temperature\n",
      "Cool\n",
      "  PlayTennis Outlook Temperature Humidity  Wind\n",
      "8        Yes   Sunny        Cool   Normal  Weak\n",
      "Hot\n",
      "  PlayTennis Outlook Temperature Humidity    Wind\n",
      "0         No   Sunny         Hot     High    Weak\n",
      "1         No   Sunny         Hot     High  Strong\n",
      "Mild\n",
      "   PlayTennis Outlook Temperature Humidity    Wind\n",
      "7          No   Sunny        Mild     High    Weak\n",
      "10        Yes   Sunny        Mild   Normal  Strong\n",
      "No and Yes Classes: Counter({'Yes': 1})\n",
      "No and Yes Classes: Counter({'No': 2})\n",
      "No and Yes Classes: Counter({'No': 1, 'Yes': 1})\n",
      "             entropy_of_list  <lambda>\n",
      "Temperature                           \n",
      "Cool                     0.0       0.2\n",
      "Hot                      0.0       0.4\n",
      "Mild                     1.0       0.4\n",
      "No and Yes Classes: Counter({'No': 3, 'Yes': 2})\n",
      "Information Gain Calculation of  Humidity\n",
      "High\n",
      "  PlayTennis Outlook Temperature Humidity    Wind\n",
      "0         No   Sunny         Hot     High    Weak\n",
      "1         No   Sunny         Hot     High  Strong\n",
      "7         No   Sunny        Mild     High    Weak\n",
      "Normal\n",
      "   PlayTennis Outlook Temperature Humidity    Wind\n",
      "8         Yes   Sunny        Cool   Normal    Weak\n",
      "10        Yes   Sunny        Mild   Normal  Strong\n",
      "No and Yes Classes: Counter({'No': 3})\n",
      "No and Yes Classes: Counter({'Yes': 2})\n",
      "          entropy_of_list  <lambda>\n",
      "Humidity                           \n",
      "High                  0.0       0.6\n",
      "Normal                0.0       0.4\n",
      "No and Yes Classes: Counter({'No': 3, 'Yes': 2})\n",
      "Information Gain Calculation of  Wind\n",
      "Strong\n",
      "   PlayTennis Outlook Temperature Humidity    Wind\n",
      "1          No   Sunny         Hot     High  Strong\n",
      "10        Yes   Sunny        Mild   Normal  Strong\n",
      "Weak\n",
      "  PlayTennis Outlook Temperature Humidity  Wind\n",
      "0         No   Sunny         Hot     High  Weak\n",
      "7         No   Sunny        Mild     High  Weak\n",
      "8        Yes   Sunny        Cool   Normal  Weak\n",
      "No and Yes Classes: Counter({'No': 1, 'Yes': 1})\n",
      "No and Yes Classes: Counter({'No': 2, 'Yes': 1})\n",
      "        entropy_of_list  <lambda>\n",
      "Wind                             \n",
      "Strong         1.000000       0.4\n",
      "Weak           0.918296       0.6\n",
      "No and Yes Classes: Counter({'No': 3, 'Yes': 2})\n",
      "Best Humidity\n",
      "Remaining Attributes ['Temperature', 'Wind']\n",
      "Counter({'No': 3})\n",
      "SubTree: No\n",
      "Counter({'Yes': 2})\n",
      "SubTree: Yes\n",
      "SubTree: {'Humidity': {'High': 'No', 'Normal': 'Yes'}}\n",
      "\n",
      "\n",
      "The Resultant Decision Tree is :\n",
      "\n",
      "{'Outlook': {'Overcast': 'Yes',\n",
      "             'Rain': {'Wind': {'Strong': 'No', 'Weak': 'Yes'}},\n",
      "             'Sunny': {'Humidity': {'High': 'No', 'Normal': 'Yes'}}}}\n"
     ]
    }
   ],
   "source": [
    "from pprint import pprint \n",
    "tree = id3(df_tennis,'PlayTennis',attribute_names) \n",
    "print(\"\\n\\nThe Resultant Decision Tree is :\\n\") \n",
    "pprint(tree)"
   ]
  },
  {
   "cell_type": "markdown",
   "metadata": {},
   "source": [
    "### A decision node has two or more branches . Leaf node represents a classification or decision. The topmost decision node in a tree which corresponds to the best predictor is called root node"
   ]
  },
  {
   "attachments": {
    "dt.png": {
     "image/png": "[encoded data removed]"
    }
   },
   "cell_type": "markdown",
   "metadata": {},
   "source": [
    "![dt.png](attachment:dt.png)"
   ]
  },
  {
   "cell_type": "markdown",
   "metadata": {},
   "source": [
    "## Test Case"
   ]
  },
  {
   "cell_type": "code",
   "execution_count": 46,
   "metadata": {},
   "outputs": [
    {
     "ename": "SyntaxError",
     "evalue": "invalid syntax (<ipython-input-46-50f80345f546>, line 1)",
     "output_type": "error",
     "traceback": [
      "\u001b[1;36m  File \u001b[1;32m\"<ipython-input-46-50f80345f546>\"\u001b[1;36m, line \u001b[1;32m1\u001b[0m\n\u001b[1;33m    outlook\ttemperature\thumidity\twind\u001b[0m\n\u001b[1;37m           \t          ^\u001b[0m\n\u001b[1;31mSyntaxError\u001b[0m\u001b[1;31m:\u001b[0m invalid syntax\n"
     ]
    }
   ],
   "source": [
    "outlook\ttemperature\thumidity\twind\n"
   ]
  },
  {
   "cell_type": "raw",
   "metadata": {},
   "source": [
    "rain\t    cool\t    normal\t    strong\n",
    "sunny\t    mild\t    normal\t    strong"
   ]
  },
  {
   "cell_type": "markdown",
   "metadata": {},
   "source": [
    "# Decision Tree using Built-in function"
   ]
  },
  {
   "cell_type": "code",
   "execution_count": 47,
   "metadata": {},
   "outputs": [],
   "source": [
    "from sklearn.datasets import load_iris\n",
    "from sklearn.tree import DecisionTreeClassifier\n",
    "clf = DecisionTreeClassifier(criterion = \"entropy\",random_state=0)"
   ]
  },
  {
   "cell_type": "code",
   "execution_count": 48,
   "metadata": {},
   "outputs": [],
   "source": [
    "iris = load_iris()"
   ]
  },
  {
   "cell_type": "code",
   "execution_count": 49,
   "metadata": {},
   "outputs": [
    {
     "name": "stdout",
     "output_type": "stream",
     "text": [
      "{'data': array([[5.1, 3.5, 1.4, 0.2],\n",
      "       [4.9, 3. , 1.4, 0.2],\n",
      "       [4.7, 3.2, 1.3, 0.2],\n",
      "       [4.6, 3.1, 1.5, 0.2],\n",
      "       [5. , 3.6, 1.4, 0.2],\n",
      "       [5.4, 3.9, 1.7, 0.4],\n",
      "       [4.6, 3.4, 1.4, 0.3],\n",
      "       [5. , 3.4, 1.5, 0.2],\n",
      "       [4.4, 2.9, 1.4, 0.2],\n",
      "       [4.9, 3.1, 1.5, 0.1],\n",
      "       [5.4, 3.7, 1.5, 0.2],\n",
      "       [4.8, 3.4, 1.6, 0.2],\n",
      "       [4.8, 3. , 1.4, 0.1],\n",
      "       [4.3, 3. , 1.1, 0.1],\n",
      "       [5.8, 4. , 1.2, 0.2],\n",
      "       [5.7, 4.4, 1.5, 0.4],\n",
      "       [5.4, 3.9, 1.3, 0.4],\n",
      "       [5.1, 3.5, 1.4, 0.3],\n",
      "       [5.7, 3.8, 1.7, 0.3],\n",
      "       [5.1, 3.8, 1.5, 0.3],\n",
      "       [5.4, 3.4, 1.7, 0.2],\n",
      "       [5.1, 3.7, 1.5, 0.4],\n",
      "       [4.6, 3.6, 1. , 0.2],\n",
      "       [5.1, 3.3, 1.7, 0.5],\n",
      "       [4.8, 3.4, 1.9, 0.2],\n",
      "       [5. , 3. , 1.6, 0.2],\n",
      "       [5. , 3.4, 1.6, 0.4],\n",
      "       [5.2, 3.5, 1.5, 0.2],\n",
      "       [5.2, 3.4, 1.4, 0.2],\n",
      "       [4.7, 3.2, 1.6, 0.2],\n",
      "       [4.8, 3.1, 1.6, 0.2],\n",
      "       [5.4, 3.4, 1.5, 0.4],\n",
      "       [5.2, 4.1, 1.5, 0.1],\n",
      "       [5.5, 4.2, 1.4, 0.2],\n",
      "       [4.9, 3.1, 1.5, 0.1],\n",
      "       [5. , 3.2, 1.2, 0.2],\n",
      "       [5.5, 3.5, 1.3, 0.2],\n",
      "       [4.9, 3.1, 1.5, 0.1],\n",
      "       [4.4, 3. , 1.3, 0.2],\n",
      "       [5.1, 3.4, 1.5, 0.2],\n",
      "       [5. , 3.5, 1.3, 0.3],\n",
      "       [4.5, 2.3, 1.3, 0.3],\n",
      "       [4.4, 3.2, 1.3, 0.2],\n",
      "       [5. , 3.5, 1.6, 0.6],\n",
      "       [5.1, 3.8, 1.9, 0.4],\n",
      "       [4.8, 3. , 1.4, 0.3],\n",
      "       [5.1, 3.8, 1.6, 0.2],\n",
      "       [4.6, 3.2, 1.4, 0.2],\n",
      "       [5.3, 3.7, 1.5, 0.2],\n",
      "       [5. , 3.3, 1.4, 0.2],\n",
      "       [7. , 3.2, 4.7, 1.4],\n",
      "       [6.4, 3.2, 4.5, 1.5],\n",
      "       [6.9, 3.1, 4.9, 1.5],\n",
      "       [5.5, 2.3, 4. , 1.3],\n",
      "       [6.5, 2.8, 4.6, 1.5],\n",
      "       [5.7, 2.8, 4.5, 1.3],\n",
      "       [6.3, 3.3, 4.7, 1.6],\n",
      "       [4.9, 2.4, 3.3, 1. ],\n",
      "       [6.6, 2.9, 4.6, 1.3],\n",
      "       [5.2, 2.7, 3.9, 1.4],\n",
      "       [5. , 2. , 3.5, 1. ],\n",
      "       [5.9, 3. , 4.2, 1.5],\n",
      "       [6. , 2.2, 4. , 1. ],\n",
      "       [6.1, 2.9, 4.7, 1.4],\n",
      "       [5.6, 2.9, 3.6, 1.3],\n",
      "       [6.7, 3.1, 4.4, 1.4],\n",
      "       [5.6, 3. , 4.5, 1.5],\n",
      "       [5.8, 2.7, 4.1, 1. ],\n",
      "       [6.2, 2.2, 4.5, 1.5],\n",
      "       [5.6, 2.5, 3.9, 1.1],\n",
      "       [5.9, 3.2, 4.8, 1.8],\n",
      "       [6.1, 2.8, 4. , 1.3],\n",
      "       [6.3, 2.5, 4.9, 1.5],\n",
      "       [6.1, 2.8, 4.7, 1.2],\n",
      "       [6.4, 2.9, 4.3, 1.3],\n",
      "       [6.6, 3. , 4.4, 1.4],\n",
      "       [6.8, 2.8, 4.8, 1.4],\n",
      "       [6.7, 3. , 5. , 1.7],\n",
      "       [6. , 2.9, 4.5, 1.5],\n",
      "       [5.7, 2.6, 3.5, 1. ],\n",
      "       [5.5, 2.4, 3.8, 1.1],\n",
      "       [5.5, 2.4, 3.7, 1. ],\n",
      "       [5.8, 2.7, 3.9, 1.2],\n",
      "       [6. , 2.7, 5.1, 1.6],\n",
      "       [5.4, 3. , 4.5, 1.5],\n",
      "       [6. , 3.4, 4.5, 1.6],\n",
      "       [6.7, 3.1, 4.7, 1.5],\n",
      "       [6.3, 2.3, 4.4, 1.3],\n",
      "       [5.6, 3. , 4.1, 1.3],\n",
      "       [5.5, 2.5, 4. , 1.3],\n",
      "       [5.5, 2.6, 4.4, 1.2],\n",
      "       [6.1, 3. , 4.6, 1.4],\n",
      "       [5.8, 2.6, 4. , 1.2],\n",
      "       [5. , 2.3, 3.3, 1. ],\n",
      "       [5.6, 2.7, 4.2, 1.3],\n",
      "       [5.7, 3. , 4.2, 1.2],\n",
      "       [5.7, 2.9, 4.2, 1.3],\n",
      "       [6.2, 2.9, 4.3, 1.3],\n",
      "       [5.1, 2.5, 3. , 1.1],\n",
      "       [5.7, 2.8, 4.1, 1.3],\n",
      "       [6.3, 3.3, 6. , 2.5],\n",
      "       [5.8, 2.7, 5.1, 1.9],\n",
      "       [7.1, 3. , 5.9, 2.1],\n",
      "       [6.3, 2.9, 5.6, 1.8],\n",
      "       [6.5, 3. , 5.8, 2.2],\n",
      "       [7.6, 3. , 6.6, 2.1],\n",
      "       [4.9, 2.5, 4.5, 1.7],\n",
      "       [7.3, 2.9, 6.3, 1.8],\n",
      "       [6.7, 2.5, 5.8, 1.8],\n",
      "       [7.2, 3.6, 6.1, 2.5],\n",
      "       [6.5, 3.2, 5.1, 2. ],\n",
      "       [6.4, 2.7, 5.3, 1.9],\n",
      "       [6.8, 3. , 5.5, 2.1],\n",
      "       [5.7, 2.5, 5. , 2. ],\n",
      "       [5.8, 2.8, 5.1, 2.4],\n",
      "       [6.4, 3.2, 5.3, 2.3],\n",
      "       [6.5, 3. , 5.5, 1.8],\n",
      "       [7.7, 3.8, 6.7, 2.2],\n",
      "       [7.7, 2.6, 6.9, 2.3],\n",
      "       [6. , 2.2, 5. , 1.5],\n",
      "       [6.9, 3.2, 5.7, 2.3],\n",
      "       [5.6, 2.8, 4.9, 2. ],\n",
      "       [7.7, 2.8, 6.7, 2. ],\n",
      "       [6.3, 2.7, 4.9, 1.8],\n",
      "       [6.7, 3.3, 5.7, 2.1],\n",
      "       [7.2, 3.2, 6. , 1.8],\n",
      "       [6.2, 2.8, 4.8, 1.8],\n",
      "       [6.1, 3. , 4.9, 1.8],\n",
      "       [6.4, 2.8, 5.6, 2.1],\n",
      "       [7.2, 3. , 5.8, 1.6],\n",
      "       [7.4, 2.8, 6.1, 1.9],\n",
      "       [7.9, 3.8, 6.4, 2. ],\n",
      "       [6.4, 2.8, 5.6, 2.2],\n",
      "       [6.3, 2.8, 5.1, 1.5],\n",
      "       [6.1, 2.6, 5.6, 1.4],\n",
      "       [7.7, 3. , 6.1, 2.3],\n",
      "       [6.3, 3.4, 5.6, 2.4],\n",
      "       [6.4, 3.1, 5.5, 1.8],\n",
      "       [6. , 3. , 4.8, 1.8],\n",
      "       [6.9, 3.1, 5.4, 2.1],\n",
      "       [6.7, 3.1, 5.6, 2.4],\n",
      "       [6.9, 3.1, 5.1, 2.3],\n",
      "       [5.8, 2.7, 5.1, 1.9],\n",
      "       [6.8, 3.2, 5.9, 2.3],\n",
      "       [6.7, 3.3, 5.7, 2.5],\n",
      "       [6.7, 3. , 5.2, 2.3],\n",
      "       [6.3, 2.5, 5. , 1.9],\n",
      "       [6.5, 3. , 5.2, 2. ],\n",
      "       [6.2, 3.4, 5.4, 2.3],\n",
      "       [5.9, 3. , 5.1, 1.8]]), 'target': array([0, 0, 0, 0, 0, 0, 0, 0, 0, 0, 0, 0, 0, 0, 0, 0, 0, 0, 0, 0, 0, 0,\n",
      "       0, 0, 0, 0, 0, 0, 0, 0, 0, 0, 0, 0, 0, 0, 0, 0, 0, 0, 0, 0, 0, 0,\n",
      "       0, 0, 0, 0, 0, 0, 1, 1, 1, 1, 1, 1, 1, 1, 1, 1, 1, 1, 1, 1, 1, 1,\n",
      "       1, 1, 1, 1, 1, 1, 1, 1, 1, 1, 1, 1, 1, 1, 1, 1, 1, 1, 1, 1, 1, 1,\n",
      "       1, 1, 1, 1, 1, 1, 1, 1, 1, 1, 1, 1, 2, 2, 2, 2, 2, 2, 2, 2, 2, 2,\n",
      "       2, 2, 2, 2, 2, 2, 2, 2, 2, 2, 2, 2, 2, 2, 2, 2, 2, 2, 2, 2, 2, 2,\n",
      "       2, 2, 2, 2, 2, 2, 2, 2, 2, 2, 2, 2, 2, 2, 2, 2, 2, 2]), 'target_names': array(['setosa', 'versicolor', 'virginica'], dtype='<U10'), 'DESCR': 'Iris Plants Database\\n====================\\n\\nNotes\\n-----\\nData Set Characteristics:\\n    :Number of Instances: 150 (50 in each of three classes)\\n    :Number of Attributes: 4 numeric, predictive attributes and the class\\n    :Attribute Information:\\n        - sepal length in cm\\n        - sepal width in cm\\n        - petal length in cm\\n        - petal width in cm\\n        - class:\\n                - Iris-Setosa\\n                - Iris-Versicolour\\n                - Iris-Virginica\\n    :Summary Statistics:\\n\\n    ============== ==== ==== ======= ===== ====================\\n                    Min  Max   Mean    SD   Class Correlation\\n    ============== ==== ==== ======= ===== ====================\\n    sepal length:   4.3  7.9   5.84   0.83    0.7826\\n    sepal width:    2.0  4.4   3.05   0.43   -0.4194\\n    petal length:   1.0  6.9   3.76   1.76    0.9490  (high!)\\n    petal width:    0.1  2.5   1.20  0.76     0.9565  (high!)\\n    ============== ==== ==== ======= ===== ====================\\n\\n    :Missing Attribute Values: None\\n    :Class Distribution: 33.3% for each of 3 classes.\\n    :Creator: R.A. Fisher\\n    :Donor: Michael Marshall (MARSHALL%PLU@io.arc.nasa.gov)\\n    :Date: July, 1988\\n\\nThis is a copy of UCI ML iris datasets.\\nhttp://archive.ics.uci.edu/ml/datasets/Iris\\n\\nThe famous Iris database, first used by Sir R.A Fisher\\n\\nThis is perhaps the best known database to be found in the\\npattern recognition literature.  Fisher\\'s paper is a classic in the field and\\nis referenced frequently to this day.  (See Duda & Hart, for example.)  The\\ndata set contains 3 classes of 50 instances each, where each class refers to a\\ntype of iris plant.  One class is linearly separable from the other 2; the\\nlatter are NOT linearly separable from each other.\\n\\nReferences\\n----------\\n   - Fisher,R.A. \"The use of multiple measurements in taxonomic problems\"\\n     Annual Eugenics, 7, Part II, 179-188 (1936); also in \"Contributions to\\n     Mathematical Statistics\" (John Wiley, NY, 1950).\\n   - Duda,R.O., & Hart,P.E. (1973) Pattern Classification and Scene Analysis.\\n     (Q327.D83) John Wiley & Sons.  ISBN 0-471-22361-1.  See page 218.\\n   - Dasarathy, B.V. (1980) \"Nosing Around the Neighborhood: A New System\\n     Structure and Classification Rule for Recognition in Partially Exposed\\n     Environments\".  IEEE Transactions on Pattern Analysis and Machine\\n     Intelligence, Vol. PAMI-2, No. 1, 67-71.\\n   - Gates, G.W. (1972) \"The Reduced Nearest Neighbor Rule\".  IEEE Transactions\\n     on Information Theory, May 1972, 431-433.\\n   - See also: 1988 MLC Proceedings, 54-64.  Cheeseman et al\"s AUTOCLASS II\\n     conceptual clustering system finds 3 classes in the data.\\n   - Many, many more ...\\n', 'feature_names': ['sepal length (cm)', 'sepal width (cm)', 'petal length (cm)', 'petal width (cm)']}\n"
     ]
    }
   ],
   "source": [
    "print(iris)"
   ]
  },
  {
   "cell_type": "code",
   "execution_count": 50,
   "metadata": {},
   "outputs": [],
   "source": [
    "clf = clf.fit(iris.data, iris.target)"
   ]
  },
  {
   "cell_type": "markdown",
   "metadata": {},
   "source": [
    "### Graphviz package facilitates the creation and rendering of graph descriptions in the Graphviz graph drawing software from Python.Create a graph object, assemble the graph by adding nodes and edges. "
   ]
  },
  {
   "cell_type": "code",
   "execution_count": 51,
   "metadata": {},
   "outputs": [],
   "source": [
    "import graphviz \n",
    "from sklearn import tree"
   ]
  },
  {
   "cell_type": "code",
   "execution_count": 52,
   "metadata": {},
   "outputs": [
    {
     "ename": "ExecutableNotFound",
     "evalue": "failed to execute ['dot', '-Tsvg'], make sure the Graphviz executables are on your systems' PATH",
     "output_type": "error",
     "traceback": [
      "\u001b[1;31m---------------------------------------------------------------------------\u001b[0m",
      "\u001b[1;31mFileNotFoundError\u001b[0m                         Traceback (most recent call last)",
      "\u001b[1;32m~\\Anaconda3\\lib\\site-packages\\graphviz\\backend.py\u001b[0m in \u001b[0;36mrun\u001b[1;34m(cmd, input, capture_output, check, quiet, **kwargs)\u001b[0m\n\u001b[0;32m    152\u001b[0m     \u001b[1;32mtry\u001b[0m\u001b[1;33m:\u001b[0m\u001b[1;33m\u001b[0m\u001b[0m\n\u001b[1;32m--> 153\u001b[1;33m         \u001b[0mproc\u001b[0m \u001b[1;33m=\u001b[0m \u001b[0msubprocess\u001b[0m\u001b[1;33m.\u001b[0m\u001b[0mPopen\u001b[0m\u001b[1;33m(\u001b[0m\u001b[0mcmd\u001b[0m\u001b[1;33m,\u001b[0m \u001b[0mstartupinfo\u001b[0m\u001b[1;33m=\u001b[0m\u001b[0mget_startupinfo\u001b[0m\u001b[1;33m(\u001b[0m\u001b[1;33m)\u001b[0m\u001b[1;33m,\u001b[0m \u001b[1;33m**\u001b[0m\u001b[0mkwargs\u001b[0m\u001b[1;33m)\u001b[0m\u001b[1;33m\u001b[0m\u001b[0m\n\u001b[0m\u001b[0;32m    154\u001b[0m     \u001b[1;32mexcept\u001b[0m \u001b[0mOSError\u001b[0m \u001b[1;32mas\u001b[0m \u001b[0me\u001b[0m\u001b[1;33m:\u001b[0m\u001b[1;33m\u001b[0m\u001b[0m\n",
      "\u001b[1;32m~\\Anaconda3\\lib\\subprocess.py\u001b[0m in \u001b[0;36m__init__\u001b[1;34m(self, args, bufsize, executable, stdin, stdout, stderr, preexec_fn, close_fds, shell, cwd, env, universal_newlines, startupinfo, creationflags, restore_signals, start_new_session, pass_fds, encoding, errors, text)\u001b[0m\n\u001b[0;32m    755\u001b[0m                                 \u001b[0merrread\u001b[0m\u001b[1;33m,\u001b[0m \u001b[0merrwrite\u001b[0m\u001b[1;33m,\u001b[0m\u001b[1;33m\u001b[0m\u001b[0m\n\u001b[1;32m--> 756\u001b[1;33m                                 restore_signals, start_new_session)\n\u001b[0m\u001b[0;32m    757\u001b[0m         \u001b[1;32mexcept\u001b[0m\u001b[1;33m:\u001b[0m\u001b[1;33m\u001b[0m\u001b[0m\n",
      "\u001b[1;32m~\\Anaconda3\\lib\\subprocess.py\u001b[0m in \u001b[0;36m_execute_child\u001b[1;34m(self, args, executable, preexec_fn, close_fds, pass_fds, cwd, env, startupinfo, creationflags, shell, p2cread, p2cwrite, c2pread, c2pwrite, errread, errwrite, unused_restore_signals, unused_start_new_session)\u001b[0m\n\u001b[0;32m   1154\u001b[0m                                          \u001b[0mos\u001b[0m\u001b[1;33m.\u001b[0m\u001b[0mfspath\u001b[0m\u001b[1;33m(\u001b[0m\u001b[0mcwd\u001b[0m\u001b[1;33m)\u001b[0m \u001b[1;32mif\u001b[0m \u001b[0mcwd\u001b[0m \u001b[1;32mis\u001b[0m \u001b[1;32mnot\u001b[0m \u001b[1;32mNone\u001b[0m \u001b[1;32melse\u001b[0m \u001b[1;32mNone\u001b[0m\u001b[1;33m,\u001b[0m\u001b[1;33m\u001b[0m\u001b[0m\n\u001b[1;32m-> 1155\u001b[1;33m                                          startupinfo)\n\u001b[0m\u001b[0;32m   1156\u001b[0m             \u001b[1;32mfinally\u001b[0m\u001b[1;33m:\u001b[0m\u001b[1;33m\u001b[0m\u001b[0m\n",
      "\u001b[1;31mFileNotFoundError\u001b[0m: [WinError 2] The system cannot find the file specified",
      "\nDuring handling of the above exception, another exception occurred:\n",
      "\u001b[1;31mExecutableNotFound\u001b[0m                        Traceback (most recent call last)",
      "\u001b[1;32m~\\Anaconda3\\lib\\site-packages\\IPython\\core\\formatters.py\u001b[0m in \u001b[0;36m__call__\u001b[1;34m(self, obj)\u001b[0m\n\u001b[0;32m    343\u001b[0m             \u001b[0mmethod\u001b[0m \u001b[1;33m=\u001b[0m \u001b[0mget_real_method\u001b[0m\u001b[1;33m(\u001b[0m\u001b[0mobj\u001b[0m\u001b[1;33m,\u001b[0m \u001b[0mself\u001b[0m\u001b[1;33m.\u001b[0m\u001b[0mprint_method\u001b[0m\u001b[1;33m)\u001b[0m\u001b[1;33m\u001b[0m\u001b[0m\n\u001b[0;32m    344\u001b[0m             \u001b[1;32mif\u001b[0m \u001b[0mmethod\u001b[0m \u001b[1;32mis\u001b[0m \u001b[1;32mnot\u001b[0m \u001b[1;32mNone\u001b[0m\u001b[1;33m:\u001b[0m\u001b[1;33m\u001b[0m\u001b[0m\n\u001b[1;32m--> 345\u001b[1;33m                 \u001b[1;32mreturn\u001b[0m \u001b[0mmethod\u001b[0m\u001b[1;33m(\u001b[0m\u001b[1;33m)\u001b[0m\u001b[1;33m\u001b[0m\u001b[0m\n\u001b[0m\u001b[0;32m    346\u001b[0m             \u001b[1;32mreturn\u001b[0m \u001b[1;32mNone\u001b[0m\u001b[1;33m\u001b[0m\u001b[0m\n\u001b[0;32m    347\u001b[0m         \u001b[1;32melse\u001b[0m\u001b[1;33m:\u001b[0m\u001b[1;33m\u001b[0m\u001b[0m\n",
      "\u001b[1;32m~\\Anaconda3\\lib\\site-packages\\graphviz\\files.py\u001b[0m in \u001b[0;36m_repr_svg_\u001b[1;34m(self)\u001b[0m\n\u001b[0;32m    107\u001b[0m \u001b[1;33m\u001b[0m\u001b[0m\n\u001b[0;32m    108\u001b[0m     \u001b[1;32mdef\u001b[0m \u001b[0m_repr_svg_\u001b[0m\u001b[1;33m(\u001b[0m\u001b[0mself\u001b[0m\u001b[1;33m)\u001b[0m\u001b[1;33m:\u001b[0m\u001b[1;33m\u001b[0m\u001b[0m\n\u001b[1;32m--> 109\u001b[1;33m         \u001b[1;32mreturn\u001b[0m \u001b[0mself\u001b[0m\u001b[1;33m.\u001b[0m\u001b[0mpipe\u001b[0m\u001b[1;33m(\u001b[0m\u001b[0mformat\u001b[0m\u001b[1;33m=\u001b[0m\u001b[1;34m'svg'\u001b[0m\u001b[1;33m)\u001b[0m\u001b[1;33m.\u001b[0m\u001b[0mdecode\u001b[0m\u001b[1;33m(\u001b[0m\u001b[0mself\u001b[0m\u001b[1;33m.\u001b[0m\u001b[0m_encoding\u001b[0m\u001b[1;33m)\u001b[0m\u001b[1;33m\u001b[0m\u001b[0m\n\u001b[0m\u001b[0;32m    110\u001b[0m \u001b[1;33m\u001b[0m\u001b[0m\n\u001b[0;32m    111\u001b[0m     \u001b[1;32mdef\u001b[0m \u001b[0mpipe\u001b[0m\u001b[1;33m(\u001b[0m\u001b[0mself\u001b[0m\u001b[1;33m,\u001b[0m \u001b[0mformat\u001b[0m\u001b[1;33m=\u001b[0m\u001b[1;32mNone\u001b[0m\u001b[1;33m,\u001b[0m \u001b[0mrenderer\u001b[0m\u001b[1;33m=\u001b[0m\u001b[1;32mNone\u001b[0m\u001b[1;33m,\u001b[0m \u001b[0mformatter\u001b[0m\u001b[1;33m=\u001b[0m\u001b[1;32mNone\u001b[0m\u001b[1;33m,\u001b[0m \u001b[0mquiet\u001b[0m\u001b[1;33m=\u001b[0m\u001b[1;32mFalse\u001b[0m\u001b[1;33m)\u001b[0m\u001b[1;33m:\u001b[0m\u001b[1;33m\u001b[0m\u001b[0m\n",
      "\u001b[1;32m~\\Anaconda3\\lib\\site-packages\\graphviz\\files.py\u001b[0m in \u001b[0;36mpipe\u001b[1;34m(self, format, renderer, formatter, quiet)\u001b[0m\n\u001b[0;32m    132\u001b[0m         out = backend.pipe(self._engine, format, data,\n\u001b[0;32m    133\u001b[0m                            \u001b[0mrenderer\u001b[0m\u001b[1;33m=\u001b[0m\u001b[0mrenderer\u001b[0m\u001b[1;33m,\u001b[0m \u001b[0mformatter\u001b[0m\u001b[1;33m=\u001b[0m\u001b[0mformatter\u001b[0m\u001b[1;33m,\u001b[0m\u001b[1;33m\u001b[0m\u001b[0m\n\u001b[1;32m--> 134\u001b[1;33m                            quiet=quiet)\n\u001b[0m\u001b[0;32m    135\u001b[0m \u001b[1;33m\u001b[0m\u001b[0m\n\u001b[0;32m    136\u001b[0m         \u001b[1;32mreturn\u001b[0m \u001b[0mout\u001b[0m\u001b[1;33m\u001b[0m\u001b[0m\n",
      "\u001b[1;32m~\\Anaconda3\\lib\\site-packages\\graphviz\\backend.py\u001b[0m in \u001b[0;36mpipe\u001b[1;34m(engine, format, data, renderer, formatter, quiet)\u001b[0m\n\u001b[0;32m    221\u001b[0m     \"\"\"\n\u001b[0;32m    222\u001b[0m     \u001b[0mcmd\u001b[0m\u001b[1;33m,\u001b[0m \u001b[0m_\u001b[0m \u001b[1;33m=\u001b[0m \u001b[0mcommand\u001b[0m\u001b[1;33m(\u001b[0m\u001b[0mengine\u001b[0m\u001b[1;33m,\u001b[0m \u001b[0mformat\u001b[0m\u001b[1;33m,\u001b[0m \u001b[1;32mNone\u001b[0m\u001b[1;33m,\u001b[0m \u001b[0mrenderer\u001b[0m\u001b[1;33m,\u001b[0m \u001b[0mformatter\u001b[0m\u001b[1;33m)\u001b[0m\u001b[1;33m\u001b[0m\u001b[0m\n\u001b[1;32m--> 223\u001b[1;33m     \u001b[0mout\u001b[0m\u001b[1;33m,\u001b[0m \u001b[0m_\u001b[0m \u001b[1;33m=\u001b[0m \u001b[0mrun\u001b[0m\u001b[1;33m(\u001b[0m\u001b[0mcmd\u001b[0m\u001b[1;33m,\u001b[0m \u001b[0minput\u001b[0m\u001b[1;33m=\u001b[0m\u001b[0mdata\u001b[0m\u001b[1;33m,\u001b[0m \u001b[0mcapture_output\u001b[0m\u001b[1;33m=\u001b[0m\u001b[1;32mTrue\u001b[0m\u001b[1;33m,\u001b[0m \u001b[0mcheck\u001b[0m\u001b[1;33m=\u001b[0m\u001b[1;32mTrue\u001b[0m\u001b[1;33m,\u001b[0m \u001b[0mquiet\u001b[0m\u001b[1;33m=\u001b[0m\u001b[0mquiet\u001b[0m\u001b[1;33m)\u001b[0m\u001b[1;33m\u001b[0m\u001b[0m\n\u001b[0m\u001b[0;32m    224\u001b[0m     \u001b[1;32mreturn\u001b[0m \u001b[0mout\u001b[0m\u001b[1;33m\u001b[0m\u001b[0m\n\u001b[0;32m    225\u001b[0m \u001b[1;33m\u001b[0m\u001b[0m\n",
      "\u001b[1;32m~\\Anaconda3\\lib\\site-packages\\graphviz\\backend.py\u001b[0m in \u001b[0;36mrun\u001b[1;34m(cmd, input, capture_output, check, quiet, **kwargs)\u001b[0m\n\u001b[0;32m    154\u001b[0m     \u001b[1;32mexcept\u001b[0m \u001b[0mOSError\u001b[0m \u001b[1;32mas\u001b[0m \u001b[0me\u001b[0m\u001b[1;33m:\u001b[0m\u001b[1;33m\u001b[0m\u001b[0m\n\u001b[0;32m    155\u001b[0m         \u001b[1;32mif\u001b[0m \u001b[0me\u001b[0m\u001b[1;33m.\u001b[0m\u001b[0merrno\u001b[0m \u001b[1;33m==\u001b[0m \u001b[0merrno\u001b[0m\u001b[1;33m.\u001b[0m\u001b[0mENOENT\u001b[0m\u001b[1;33m:\u001b[0m\u001b[1;33m\u001b[0m\u001b[0m\n\u001b[1;32m--> 156\u001b[1;33m             \u001b[1;32mraise\u001b[0m \u001b[0mExecutableNotFound\u001b[0m\u001b[1;33m(\u001b[0m\u001b[0mcmd\u001b[0m\u001b[1;33m)\u001b[0m\u001b[1;33m\u001b[0m\u001b[0m\n\u001b[0m\u001b[0;32m    157\u001b[0m         \u001b[1;32melse\u001b[0m\u001b[1;33m:\u001b[0m\u001b[1;33m\u001b[0m\u001b[0m\n\u001b[0;32m    158\u001b[0m             \u001b[1;32mraise\u001b[0m\u001b[1;33m\u001b[0m\u001b[0m\n",
      "\u001b[1;31mExecutableNotFound\u001b[0m: failed to execute ['dot', '-Tsvg'], make sure the Graphviz executables are on your systems' PATH"
     ]
    },
    {
     "data": {
      "text/plain": [
       "<graphviz.files.Source at 0x7cedb50>"
      ]
     },
     "execution_count": 52,
     "metadata": {},
     "output_type": "execute_result"
    }
   ],
   "source": [
    "dot_data = tree.export_graphviz(clf, out_file=None,feature_names=iris.feature_names,class_names=iris.target_names,filled=True, rounded=True,  \n",
    "                         special_characters=True)  \n",
    "graph = graphviz.Source(dot_data) \n",
    "graph"
   ]
  },
  {
   "cell_type": "code",
   "execution_count": null,
   "metadata": {},
   "outputs": [],
   "source": [
    "!pip3 install graphviz"
   ]
  },
  {
   "cell_type": "markdown",
   "metadata": {
    "collapsed": true
   },
   "source": [
    "### Disadvantages of Decision Tree Learning"
   ]
  },
  {
   "cell_type": "markdown",
   "metadata": {},
   "source": [
    "### 1) They are unstable, meaning that a small change in the data can lead to a large change in the structure of the optimal decision tree."
   ]
  },
  {
   "cell_type": "markdown",
   "metadata": {},
   "source": [
    "### 2) Calculations can get very complex, particularly if many values are uncertain and/or if many outcomes are linked."
   ]
  }
 ],
 "metadata": {
  "kernelspec": {
   "display_name": "Python 3",
   "language": "python",
   "name": "python3"
  },
  "language_info": {
   "codemirror_mode": {
    "name": "ipython",
    "version": 3
   },
   "file_extension": ".py",
   "mimetype": "text/x-python",
   "name": "python",
   "nbconvert_exporter": "python",
   "pygments_lexer": "ipython3",
   "version": "3.7.1"
  }
 },
 "nbformat": 4,
 "nbformat_minor": 2
}
